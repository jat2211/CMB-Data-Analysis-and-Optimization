{
 "cells": [
  {
   "cell_type": "code",
   "execution_count": 2,
   "metadata": {},
   "outputs": [],
   "source": [
    "import numpy as np\n",
    "import statistics\n",
    "from statistics import mean, pvariance\n",
    "import scipy\n",
    "from scipy.optimize import minimize,NonlinearConstraint"
   ]
  },
  {
   "cell_type": "markdown",
   "metadata": {},
   "source": [
    "# Python Lambda Functions\n",
    "notes and and examples"
   ]
  },
  {
   "cell_type": "code",
   "execution_count": 3,
   "metadata": {},
   "outputs": [
    {
     "name": "stdout",
     "output_type": "stream",
     "text": [
      "12\n"
     ]
    }
   ],
   "source": [
    "#7 is inputted as argument\n",
    "#funtion evaluates to x, which is 12 in this case\n",
    "\n",
    "x = lambda a: a + 5\n",
    "print(x(7))"
   ]
  },
  {
   "cell_type": "code",
   "execution_count": 4,
   "metadata": {},
   "outputs": [
    {
     "name": "stdout",
     "output_type": "stream",
     "text": [
      "28\n"
     ]
    }
   ],
   "source": [
    "#lambda function with multiple arguments\n",
    "\n",
    "x = lambda a,b,c: a*b + c\n",
    "print(x(3,6,10))"
   ]
  },
  {
   "cell_type": "code",
   "execution_count": 5,
   "metadata": {},
   "outputs": [
    {
     "name": "stdout",
     "output_type": "stream",
     "text": [
      "26\n"
     ]
    }
   ],
   "source": [
    "#nested lambda function that doubles a number\n",
    "\n",
    "def function(n):\n",
    "    return lambda a: a*n\n",
    "\n",
    "double_number = function(2)\n",
    "print(double_number(13))"
   ]
  },
  {
   "cell_type": "markdown",
   "metadata": {},
   "source": [
    "# Minimizing Basic Functions"
   ]
  },
  {
   "cell_type": "code",
   "execution_count": 6,
   "metadata": {},
   "outputs": [
    {
     "name": "stdout",
     "output_type": "stream",
     "text": [
      "[0.5] 2.75\n"
     ]
    }
   ],
   "source": [
    "#defines the function to be minimized\n",
    "def fun(x):\n",
    "    return x**2 - x + 3\n",
    "    \n",
    "x0 = np.array([4])\n",
    "\n",
    "res = minimize(fun,x0)\n",
    "print(res.x, res.fun) #prints array of solutions and f(x) value at x"
   ]
  },
  {
   "cell_type": "markdown",
   "metadata": {},
   "source": [
    "# Implementing Variance"
   ]
  },
  {
   "cell_type": "code",
   "execution_count": null,
   "metadata": {},
   "outputs": [],
   "source": [
    "#defines the covariance matrix x, weights, and vector of ones a\n",
    "r = np.array([[504,360,180],[360,360,0],[180,0,720]])\n",
    "w0 = np.array([.35,.45,.2])\n",
    "a = np.ones(len(w))\n",
    "\n",
    "#defines a lambda function that returns dot product of weights and array of ones\n",
    "fun = lambda w: np.dot(w,a)\n",
    "\n",
    "print(\"The sum of all the weights is:\")\n",
    "print(fun(w))\n",
    "\n",
    "#nonlinear constraint that implements the function and sets the constraint bounds\n",
    "con = NonlinearConstraint(fun(w),1,1)\n",
    "\n",
    "#defines a lambda function that implements the variance equation (int_var truncates value from var)\n",
    "var = lambda w,r: np.dot(np.dot(w,r),w)\n",
    "\n",
    "print(\"The variance is:\")\n",
    "print(var(w,r))\n",
    "\n",
    "int_var = var(w,r)\n",
    "\n",
    "#minimization method ()\n",
    "res.x = minimize(int_var,w,method='Nelder-Mead',constraints=con)\n",
    "print(res.x)"
   ]
  },
  {
   "cell_type": "markdown",
   "metadata": {},
   "source": [
    "# Simple Implementation of Variance"
   ]
  },
  {
   "cell_type": "code",
   "execution_count": 9,
   "metadata": {},
   "outputs": [
    {
     "name": "stdout",
     "output_type": "stream",
     "text": [
      "The sum of all the weights is:\n",
      "[2.84 2.75 2.79]\n",
      "\n",
      "The variance by lambda function is:\n",
      "0.015555555555555557\n",
      "The variance checked by statistics package is:\n",
      "0.015555555555555555\n",
      "\n",
      "The solution array for the weights is:\n",
      "[0.28509724 0.28509482 0.28509537]\n"
     ]
    }
   ],
   "source": [
    "#defines the covariance matrix r, weights, and vector of ones a\n",
    "r = np.array([[504,360,180],[360,360,0],[180,0,720]])\n",
    "w0 = np.array([.35,.45,.2])\n",
    "a = np.ones(len(w0))\n",
    "\n",
    "#defines a lambda function that returns dot product of weights and array of ones\n",
    "func = lambda w: np.dot(w,a)\n",
    "\n",
    "print(\"The sum of all the weights is:\")\n",
    "print(fun(np.array([.2,.5,.3])))\n",
    "\n",
    "print()\n",
    "\n",
    "#nonlinear constraint that implements the function and sets the constraint bounds\n",
    "const = NonlinearConstraint(func(np.array([.2,.5,.3])),1,1)\n",
    "\n",
    "#defines a lambda function that implements the variance equation\n",
    "lvar = lambda w: (sum((w - mean(w))**2)) / len(w)\n",
    "\n",
    "print(\"The variance by lambda function is:\")\n",
    "print(lvar(np.array([.2,.5,.3])))\n",
    "\n",
    "print(\"The variance checked by statistics package is:\")\n",
    "print(pvariance(np.array([.2,.5,.3]))) #checks variance using pvariance method from statistics\n",
    "\n",
    "print()\n",
    "\n",
    "#minimization method\n",
    "minimize_method = minimize(lvar,w0,method='Nelder-Mead',bounds=(1,1)) #,constraints=const)\n",
    "\n",
    "print(\"The solution array for the weights is:\")\n",
    "print(minimize_method.x)"
   ]
  },
  {
   "cell_type": "code",
   "execution_count": 17,
   "metadata": {},
   "outputs": [
    {
     "name": "stdout",
     "output_type": "stream",
     "text": [
      " final_simplex: (array([[-2.84217094e-14],\n",
      "       [ 7.32421875e-05]]), array([2.42338070e-27, 1.60932541e-08]))\n",
      "           fun: 2.4233807008389483e-27\n",
      "       message: 'Optimization terminated successfully.'\n",
      "          nfev: 42\n",
      "           nit: 21\n",
      "        status: 0\n",
      "       success: True\n",
      "             x: array([-2.84217094e-14])\n"
     ]
    }
   ],
   "source": [
    "#basic implementation of the minimization method\n",
    "ex_weights = np.array([12])\n",
    "\n",
    "bound_func = lambda x: x**3 + 3\n",
    "ex_con = NonlinearConstraint(bound_func,-1,1)\n",
    "\n",
    "func = lambda x: 3*x**2\n",
    "\n",
    "ex_minimize_method = minimize(func,ex_weights, method='Nelder-Mead',constraints=ex_con)\n",
    "\n",
    "print(ex_minimize_method)"
   ]
  },
  {
   "cell_type": "markdown",
   "metadata": {},
   "source": [
    "# Code to Confirm Final Solution for Weights"
   ]
  },
  {
   "cell_type": "code",
   "execution_count": 6,
   "metadata": {
    "scrolled": true
   },
   "outputs": [
    {
     "name": "stdout",
     "output_type": "stream",
     "text": [
      "[-0.52631579  1.10526316  0.42105263]\n"
     ]
    }
   ],
   "source": [
    "#check\n",
    "def sol(a,r):\n",
    "    r_inv = np.linalg.inv(r)\n",
    "    cov_mat = np.dot(r_inv,a) #matrix inverse\n",
    "    nested_inv = (np.dot(a,cov_mat)) #matrix inverse\n",
    "    \n",
    "    solution = cov_mat / nested_inv\n",
    "    return solution\n",
    "\n",
    "print(sol(a,r)) #should be array but why"
   ]
  }
 ],
 "metadata": {
  "kernelspec": {
   "display_name": "Python 3",
   "language": "python",
   "name": "python3"
  },
  "language_info": {
   "codemirror_mode": {
    "name": "ipython",
    "version": 3
   },
   "file_extension": ".py",
   "mimetype": "text/x-python",
   "name": "python",
   "nbconvert_exporter": "python",
   "pygments_lexer": "ipython3",
   "version": "3.8.3"
  }
 },
 "nbformat": 4,
 "nbformat_minor": 4
}
