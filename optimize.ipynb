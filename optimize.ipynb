{
 "cells": [
  {
   "cell_type": "code",
   "execution_count": 2,
   "metadata": {},
   "outputs": [],
   "source": [
    "import numpy as np\n",
    "import scipy\n",
    "from scipy.optimize import minimize,NonlinearConstraint"
   ]
  },
  {
   "cell_type": "code",
   "execution_count": 13,
   "metadata": {},
   "outputs": [
    {
     "ename": "SyntaxError",
     "evalue": "invalid syntax (<ipython-input-13-199e804b9fbe>, line 3)",
     "output_type": "error",
     "traceback": [
      "\u001b[1;36m  File \u001b[1;32m\"<ipython-input-13-199e804b9fbe>\"\u001b[1;36m, line \u001b[1;32m3\u001b[0m\n\u001b[1;33m    con = lambda w:\u001b[0m\n\u001b[1;37m                    ^\u001b[0m\n\u001b[1;31mSyntaxError\u001b[0m\u001b[1;31m:\u001b[0m invalid syntax\n"
     ]
    }
   ],
   "source": [
    "#creates the constraint\n",
    "#since the constraint is w_i = 1, lower and upper bound are both set to 1 and function is defined by w\n",
    "con = lambda w: \n",
    "constraint = scipy.optimize.NonLinearConstraint(con,1,1)\n",
    "\n",
    "#minimizes the function\n",
    "x\n",
    "weights = scipy.optimize.minimize(x,constraints=constraint)"
   ]
  },
  {
   "cell_type": "markdown",
   "metadata": {},
   "source": [
    "# Python Lambda Functions\n",
    "notes and and examples"
   ]
  },
  {
   "cell_type": "code",
   "execution_count": 3,
   "metadata": {},
   "outputs": [],
   "source": [
    "#can take any number of arguments\n",
    "\n",
    "#syntax:\n",
    "#lambda args: expression"
   ]
  },
  {
   "cell_type": "code",
   "execution_count": 6,
   "metadata": {},
   "outputs": [
    {
     "name": "stdout",
     "output_type": "stream",
     "text": [
      "12\n"
     ]
    }
   ],
   "source": [
    "#7 is inputted as argument\n",
    "#funtion evaluates to x, which is 12 in this case\n",
    "\n",
    "x = lambda a: a + 5\n",
    "print(x(7))"
   ]
  },
  {
   "cell_type": "code",
   "execution_count": 7,
   "metadata": {},
   "outputs": [
    {
     "name": "stdout",
     "output_type": "stream",
     "text": [
      "28\n"
     ]
    }
   ],
   "source": [
    "#lambda function with multiple arguments\n",
    "\n",
    "x = lambda a,b,c: a*b + c\n",
    "print(x(3,6,10))"
   ]
  },
  {
   "cell_type": "code",
   "execution_count": 8,
   "metadata": {},
   "outputs": [
    {
     "name": "stdout",
     "output_type": "stream",
     "text": [
      "26\n"
     ]
    }
   ],
   "source": [
    "#nested lambda function that doubles a number\n",
    "\n",
    "def function(n):\n",
    "    return lambda a: a*n\n",
    "\n",
    "double_number = function(2)\n",
    "print(double_number(13))"
   ]
  },
  {
   "cell_type": "markdown",
   "metadata": {},
   "source": [
    "# Minimizing Basic Functions"
   ]
  },
  {
   "cell_type": "code",
   "execution_count": 85,
   "metadata": {},
   "outputs": [
    {
     "name": "stdout",
     "output_type": "stream",
     "text": [
      "[0.5] 2.75\n"
     ]
    }
   ],
   "source": [
    "#defines the function to be minimized\n",
    "def fun(x):\n",
    "    return x**2 - x + 3\n",
    "    \n",
    "x0 = np.array([4])\n",
    "\n",
    "res = minimize(fun,x0)\n",
    "print(res.x, res.fun) #prints array of solutions and f(x) value at x"
   ]
  },
  {
   "cell_type": "markdown",
   "metadata": {},
   "source": [
    "# Implementing Variance"
   ]
  },
  {
   "cell_type": "code",
   "execution_count": 7,
   "metadata": {},
   "outputs": [
    {
     "ename": "NameError",
     "evalue": "name 'np' is not defined",
     "output_type": "error",
     "traceback": [
      "\u001b[1;31m---------------------------------------------------------------------------\u001b[0m",
      "\u001b[1;31mNameError\u001b[0m                                 Traceback (most recent call last)",
      "\u001b[1;32m<ipython-input-7-eff483a227c0>\u001b[0m in \u001b[0;36m<module>\u001b[1;34m\u001b[0m\n\u001b[0;32m      4\u001b[0m \u001b[1;33m\u001b[0m\u001b[0m\n\u001b[0;32m      5\u001b[0m \u001b[1;31m#defines a function that implements constraint (w,x not defined yet)\u001b[0m\u001b[1;33m\u001b[0m\u001b[1;33m\u001b[0m\u001b[1;33m\u001b[0m\u001b[0m\n\u001b[1;32m----> 6\u001b[1;33m \u001b[0ma\u001b[0m \u001b[1;33m=\u001b[0m \u001b[0mnp\u001b[0m\u001b[1;33m.\u001b[0m\u001b[0mones\u001b[0m\u001b[1;33m(\u001b[0m\u001b[0mlen\u001b[0m\u001b[1;33m(\u001b[0m\u001b[0mw\u001b[0m\u001b[1;33m)\u001b[0m\u001b[1;33m)\u001b[0m\u001b[1;33m\u001b[0m\u001b[1;33m\u001b[0m\u001b[0m\n\u001b[0m\u001b[0;32m      7\u001b[0m \u001b[0mfun\u001b[0m \u001b[1;33m=\u001b[0m \u001b[1;32mlambda\u001b[0m \u001b[0mw\u001b[0m\u001b[1;33m,\u001b[0m\u001b[0mx\u001b[0m\u001b[1;33m:\u001b[0m \u001b[0mnp\u001b[0m\u001b[1;33m.\u001b[0m\u001b[0mdot\u001b[0m\u001b[1;33m(\u001b[0m\u001b[0mw\u001b[0m\u001b[1;33m,\u001b[0m\u001b[0ma\u001b[0m\u001b[1;33m)\u001b[0m\u001b[1;33m\u001b[0m\u001b[1;33m\u001b[0m\u001b[0m\n\u001b[0;32m      8\u001b[0m \u001b[1;33m\u001b[0m\u001b[0m\n",
      "\u001b[1;31mNameError\u001b[0m: name 'np' is not defined"
     ]
    }
   ],
   "source": [
    "#creating non linear constraint\n",
    "from random import random\n",
    "from random import seed\n",
    "\n",
    "#defines a function that implements constraint (w,x not defined yet)\n",
    "a = np.ones(len(w))\n",
    "fun = lambda w,x: np.dot(w,a)\n",
    "\n",
    "#nonlinear constraint that implements the function and sets the constraint bounds\n",
    "#since constraint equals 1, both bounds set to 1\n",
    "#should w,x be defined and how?\n",
    "con = NonlinearConstraint(fun(w,a),1,1)\n",
    "\n",
    "#generates random array of initial guesses for weights (won't equal one)\n",
    "seed(1)\n",
    "\n",
    "weights = []\n",
    "for i in range(n_obs):\n",
    "    w.append(random())\n",
    "\n",
    "#implementation of variance equation\n",
    "var = lambda w,x: np.dot(w,x**2)\n",
    "\n",
    "res.x = minimize(var,weights,method='Nelder-Mead',constraints=con)\n",
    "print(res.x)"
   ]
  },
  {
   "cell_type": "code",
   "execution_count": 5,
   "metadata": {},
   "outputs": [
    {
     "name": "stdout",
     "output_type": "stream",
     "text": [
      "[0.024477624355352945, 0.037500009346017715, 0.36486040798395114, 0.007422752671993771, 0.8940318012058059, 0.09086510620803168, 0.0351715436839497, 0.515303711189832, 0.4656369096910383, 0.2491100658209925]\n"
     ]
    }
   ],
   "source": [
    "#testing out random number generator\n",
    "x = []\n",
    "\n",
    "for i in range(10):\n",
    "    x.append(random())\n",
    "\n",
    "print(x)"
   ]
  },
  {
   "cell_type": "markdown",
   "metadata": {},
   "source": [
    "I made a rough outline of the code, although there are still some errors and undefined variables but overall hopefully headed in the right direction."
   ]
  }
 ],
 "metadata": {
  "kernelspec": {
   "display_name": "Python 3",
   "language": "python",
   "name": "python3"
  },
  "language_info": {
   "codemirror_mode": {
    "name": "ipython",
    "version": 3
   },
   "file_extension": ".py",
   "mimetype": "text/x-python",
   "name": "python",
   "nbconvert_exporter": "python",
   "pygments_lexer": "ipython3",
   "version": "3.8.3"
  }
 },
 "nbformat": 4,
 "nbformat_minor": 4
}
