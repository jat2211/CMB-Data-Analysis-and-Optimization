{
 "cells": [
  {
   "cell_type": "markdown",
   "metadata": {},
   "source": [
    "## Packages for performing the optimization"
   ]
  },
  {
   "cell_type": "code",
   "execution_count": null,
   "metadata": {},
   "outputs": [],
   "source": [
    "import numpy as np\n",
    "import statistics\n",
    "from statistics import mean, pvariance\n",
    "import scipy\n",
    "from scipy.optimize import minimize,NonlinearConstraint"
   ]
  },
  {
   "cell_type": "markdown",
   "metadata": {},
   "source": [
    "## Packages for performing map manipulations"
   ]
  },
  {
   "cell_type": "code",
   "execution_count": null,
   "metadata": {},
   "outputs": [],
   "source": [
    "from __future__ import print_function\n",
    "from pixell import enmap,utils\n",
    "import numpy as np\n",
    "import matplotlib.pyplot as plt\n",
    "from pixell import enplot\n",
    "import os,sys\n",
    "import urllib.request"
   ]
  },
  {
   "cell_type": "markdown",
   "metadata": {},
   "source": [
    "## Uploading the maps from the cluster"
   ]
  },
  {
   "cell_type": "code",
   "execution_count": null,
   "metadata": {},
   "outputs": [],
   "source": [
    "filename1 = \"/moto/hill/projects/actpol/SO_Sims_LAMBDA/d56/SO_skymaps_deep56/so_skymap_deep56_30GHz.fits\"\n",
    "filename2 = \"/moto/hill/projects/actpol/SO_Sims_LAMBDA/d56/SO_skymaps_deep56/so_skymap_deep56_44GHz.fits\"\n",
    "filename3 = \"/moto/hill/projects/actpol/SO_Sims_LAMBDA/d56/SO_skymaps_deep56/so_skymap_deep56_70GHz.fits\"\n",
    "filename4 = \"/moto/hill/projects/actpol/SO_Sims_LAMBDA/d56/SO_skymaps_deep56/so_skymap_deep56_100GHz.fits\"\n",
    "filename5 = \"/moto/hill/projects/actpol/SO_Sims_LAMBDA/d56/SO_skymaps_deep56/so_skymap_deep56_143GHz.fits\"\n",
    "filename6 = \"/moto/hill/projects/actpol/SO_Sims_LAMBDA/d56/SO_skymaps_deep56/so_skymap_deep56_145GHz.fits\"\n",
    "filename7 = \"/moto/hill/projects/actpol/SO_Sims_LAMBDA/d56/SO_skymaps_deep56/so_skymap_deep56_217GHz.fits\"\n",
    "filename8 = \"/moto/hill/projects/actpol/SO_Sims_LAMBDA/d56/SO_skymaps_deep56/so_skymap_deep56_353GHz.fits\"\n",
    "\n",
    "imap30 = enmap.read_map(filename1)\n",
    "imap44 = enmap.read_map(filename2)\n",
    "imap70 = enmap.read_map(filename3)\n",
    "imap100 = enmap.read_map(filename4)\n",
    "imap143 = enmap.read_map(filename5)\n",
    "imap145 = enmap.read_map(filename6)\n",
    "imap217 = enmap.read_map(filename7)\n",
    "imap353 = enmap.read_map(filename8)\n",
    "\n",
    "print(\"Map shape and dtype (same for all the maps):\")\n",
    "print(imap44.shape, imap44.dtype)\n",
    "\n",
    "fmap30 = np.ndarray.flatten(imap30)\n",
    "fmap44 = np.ndarray.flatten(imap44)\n",
    "fmap70 = np.ndarray.flatten(imap70)\n",
    "fmap100 = np.ndarray.flatten(imap100)\n",
    "fmap143 = np.ndarray.flatten(imap143)\n",
    "fmap145 = np.ndarray.flatten(imap145)\n",
    "fmap217 = np.ndarray.flatten(imap217)\n",
    "fmap353 = np.ndarray.flatten(imap353)\n",
    "\n",
    "print(\"Flattened map:\")\n",
    "print(fmap44)"
   ]
  },
  {
   "cell_type": "markdown",
   "metadata": {},
   "source": [
    "## Defining ΔT"
   ]
  },
  {
   "cell_type": "code",
   "execution_count": null,
   "metadata": {},
   "outputs": [],
   "source": [
    "n_map = 8\n",
    "n_pix = 2182*9455\n",
    "map_array = [fmap30,fmap44,fmap70,fmap100,fmap143,fmap145,fmap217,fmap353]"
   ]
  },
  {
   "cell_type": "markdown",
   "metadata": {},
   "source": [
    "## Defining the R matrix"
   ]
  },
  {
   "cell_type": "code",
   "execution_count": null,
   "metadata": {},
   "outputs": [],
   "source": [
    "r = np.zeros([n_map,n_map])\n",
    "\n",
    "for i in range(n_map):\n",
    "    for j in range(n_map):\n",
    "        r[i][j] = np.sum((map_array[i] * map_array[j])) / n_pix\n",
    "        \n",
    "print(r)"
   ]
  },
  {
   "cell_type": "code",
   "execution_count": null,
   "metadata": {},
   "outputs": [],
   "source": [
    "b = np.zeros([n_map,n_map,n_map])\n",
    "\n",
    "for i in range(n_map):\n",
    "    for j in range(n_map):\n",
    "        for k in range(n_map):\n",
    "            b[i][j][k] = np.sum(map_array[i] * map_array[j] * map_array[k]) / n_pix\n",
    "            \n",
    "print(b)"
   ]
  },
  {
   "cell_type": "markdown",
   "metadata": {},
   "source": [
    "## Optimizing the variance"
   ]
  },
  {
   "cell_type": "code",
   "execution_count": null,
   "metadata": {},
   "outputs": [],
   "source": [
    "w0 = np.array([.125,.125,.125,.125,.125,.125,.125,.125])\n",
    "a = np.ones(len(w0))\n",
    "\n",
    "#defines a lambda function that returns dot product of weights and array of ones\n",
    "fun = lambda w: np.dot(w,a)\n",
    "\n",
    "print(\"The sum of all the weights is:\")\n",
    "print(fun(w0))\n",
    "\n",
    "#nonlinear constraint that implements the function and sets the constraint bounds\n",
    "con = NonlinearConstraint(fun,1,1)\n",
    "\n",
    "#defines a lambda function that implements the variance equation\n",
    "var = lambda w: np.dot(np.dot(w,r),w)\n",
    "\n",
    "print(\"The variance is:\")\n",
    "print(var(w0))\n",
    "\n",
    "#minimization method ()\n",
    "mini = minimize(var,w0,method='SLSQP',constraints=con)\n",
    "weights_var = mini.x\n",
    "print(mini.x)\n",
    "\n",
    "print()\n",
    "print(var(mini.x))\n",
    "\n",
    "print()\n",
    "print(fun(mini.x))"
   ]
  },
  {
   "cell_type": "markdown",
   "metadata": {},
   "source": [
    "## Optimizing the skewness"
   ]
  },
  {
   "cell_type": "code",
   "execution_count": null,
   "metadata": {},
   "outputs": [],
   "source": [
    "w0 = np.array([.125,.125,.125,.125,.125,.125,.125,.125])\n",
    "a = np.ones(len(w0))\n",
    "\n",
    "#defines a lambda function that returns dot product of weights and array of ones\n",
    "fun = lambda w: np.dot(w,a)\n",
    "\n",
    "print(\"The sum of all the weights is:\")\n",
    "print(fun(w0))\n",
    "\n",
    "#nonlinear constraint that implements the function and sets the constraint bounds\n",
    "con = NonlinearConstraint(fun,1,1)\n",
    "\n",
    "#defines a lambda function that implements the variance equation\n",
    "skew = lambda w: abs(np.dot(np.dot(np.dot(w,b),w), w))\n",
    "\n",
    "print()\n",
    "print(\"The skewness is:\")\n",
    "print(skew(w0))\n",
    "\n",
    "#minimization method ()\n",
    "mini = minimize(skew,w0,method='SLSQP',constraints=con)\n",
    "weights_skew = mini.x\n",
    "\n",
    "print()\n",
    "print(\"The solution array for the weights is:\")\n",
    "print(mini.x)\n",
    "\n",
    "print()\n",
    "print(skew(mini.x))\n",
    "\n",
    "print()\n",
    "print(\"The sum of the weights in the solution array is:\")\n",
    "print(fun(mini.x))"
   ]
  },
  {
   "cell_type": "code",
   "execution_count": null,
   "metadata": {},
   "outputs": [],
   "source": [
    "imap_array = np.array([imap30,imap44,imap70,imap100,imap143,imap145,imap217,imap353])\n",
    "\n",
    "#yp_var = np.tensordot(weights_var,imap_array, axes=0)\n",
    "#yp_skew = np.tensordot(weights_skew, imap_array, axes=0)\n",
    "\n",
    "yp_var = imap30.copy()\n",
    "yp_var *= 0.\n",
    "\n",
    "for i in range(n_map):\n",
    "    yp_var += imap_array[i]*weights_var[i]\n",
    "    \n",
    "print(yp_var)\n",
    "\n",
    "yp_skew = imap30.copy()\n",
    "yp_skew *= 0\n",
    "\n",
    "for i in range(n_map):\n",
    "    yp_skew += imap_array[i]*weights_skew[i]\n",
    "\n",
    "print(yp_skew)"
   ]
  },
  {
   "cell_type": "code",
   "execution_count": null,
   "metadata": {},
   "outputs": [],
   "source": [
    "plots = enplot.plot(yp_var, range=300,mask=0)\n",
    "\n",
    "def eshow(x,**kwargs): enplot.show(enplot.plot(x,**kwargs))\n",
    "eshow(yp_var)"
   ]
  },
  {
   "cell_type": "code",
   "execution_count": null,
   "metadata": {},
   "outputs": [],
   "source": [
    "plots = enplot.plot(yp_skew, range=300,mask=0)\n",
    "\n",
    "def eshow(x,**kwargs): enplot.show(enplot.plot(x,**kwargs))\n",
    "eshow(yp_skew)"
   ]
  },
  {
   "cell_type": "code",
   "execution_count": null,
   "metadata": {},
   "outputs": [],
   "source": [
    "plots = enplot.plot(yp_var-yp_skew, range=300,mask=0)\n",
    "\n",
    "def eshow(x,**kwargs): enplot.show(enplot.plot(x,**kwargs))\n",
    "eshow(yp_var-yp_skew)"
   ]
  },
  {
   "cell_type": "markdown",
   "metadata": {},
   "source": [
    "## Comparison of the Variance and Skewness"
   ]
  },
  {
   "cell_type": "code",
   "execution_count": null,
   "metadata": {},
   "outputs": [],
   "source": [
    "freq = np.array([30,44,70,100,143,145,217,353])\n",
    "\n",
    "diff = weights_var - (weights_skew / 10)\n",
    "plt.plot(freq, abs(diff))\n",
    "plt.show()"
   ]
  },
  {
   "cell_type": "markdown",
   "metadata": {},
   "source": [
    "## Plot of the Sets of Weights"
   ]
  },
  {
   "cell_type": "code",
   "execution_count": null,
   "metadata": {},
   "outputs": [],
   "source": [
    "freq = np.array([30,44,70,100,143,145,217,353])\n",
    "\n",
    "plot = plt.plot(freq, weights_var,'b-',freq,weights_skew/10,'r')\n",
    "plt.xlabel('Frequency')\n",
    "plt.ylabel('Variance and Skewness')\n",
    "plt.legend(['Variance','Skewness / 10'])\n",
    "plt.show()\n",
    "print(\"Note that the skewness weights are reduced to a tenth of their original value to better compare to the variance weights.\")"
   ]
  }
 ],
 "metadata": {
  "kernelspec": {
   "display_name": "Python 3",
   "language": "python",
   "name": "python3"
  },
  "language_info": {
   "codemirror_mode": {
    "name": "ipython",
    "version": 3
   },
   "file_extension": ".py",
   "mimetype": "text/x-python",
   "name": "python",
   "nbconvert_exporter": "python",
   "pygments_lexer": "ipython3",
   "version": "3.8.3"
  }
 },
 "nbformat": 4,
 "nbformat_minor": 4
}
